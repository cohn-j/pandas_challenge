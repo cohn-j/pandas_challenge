{
 "cells": [
  {
   "cell_type": "code",
   "execution_count": null,
   "metadata": {},
   "outputs": [],
   "source": [
    "# Dependencies and Setup\n",
    "import pandas as pd\n",
    "\n",
    "# Variable to house the path to the .csv file:\n",
    "file_to_load = \"Resources/purchase_data.csv\"\n",
    "\n",
    "# Read the purchasing data .csv file and store into a Pandas data frame\n",
    "purchase_data = pd.read_csv(file_to_load)"
   ]
  },
  {
   "cell_type": "markdown",
   "metadata": {},
   "source": [
    "## Player Count"
   ]
  },
  {
   "cell_type": "markdown",
   "metadata": {},
   "source": [
    "Determine column headers, then utilize the Screen Name \"SN\" column based on unique values to determine the total number of players. The column is then renamed to be more descriptive within the resultant data frame."
   ]
  },
  {
   "cell_type": "code",
   "execution_count": null,
   "metadata": {},
   "outputs": [],
   "source": [
    "#Create a data frame from the CSV file.\n",
    "purchase_data_df=pd.DataFrame(purchase_data)\n",
    "#Display the column headers.\n",
    "purchase_data_df.columns\n"
   ]
  },
  {
   "cell_type": "code",
   "execution_count": null,
   "metadata": {},
   "outputs": [],
   "source": [
    "#Create a dictionary based on the length of the unique # of screen names as that's the player count and then create\n",
    "#a data frame based on that dictionary.\n",
    "total_players = {\"Total Players\":[len(purchase_data_df[\"SN\"].unique())]}\n",
    "total_players_df = pd.DataFrame(total_players)\n",
    "total_players_df"
   ]
  },
  {
   "cell_type": "markdown",
   "metadata": {},
   "source": [
    "## Purchasing Analysis (Total)"
   ]
  },
  {
   "cell_type": "markdown",
   "metadata": {},
   "source": [
    "Display a purchasing analysis summary DataFrame that contains the following:\n",
    "\n",
    "The number of unique items using the unique items function on the \"Item ID\" column.\n",
    "\n",
    "The average price per item utilizing the mean function on the \"Price\" column.\n",
    "\n",
    "The number of purchases utilizing the len of the \"Purchase\" column.\n",
    "\n",
    "The total revenue utilizing the sum function on the \"Price\" column."
   ]
  },
  {
   "cell_type": "code",
   "execution_count": null,
   "metadata": {
    "scrolled": true
   },
   "outputs": [],
   "source": [
    "#Create a dictionary that utilizes several Pandas functions on the initial data frame and then display a data frame utilizing\n",
    "#the summary data frame.\n",
    "purchasing_analysis = {\"Number of Unique Items\":[len(purchase_data_df[\"Item ID\"].unique())],\n",
    "                      \"Average Price\":[round(purchase_data_df[\"Price\"].mean(),2)],\n",
    "                      \"Number of Purchases\":[purchase_data_df[\"Purchase ID\"].count()],\n",
    "                      \"Total Revenue\":[purchase_data_df[\"Price\"].sum()]}\n",
    "purchasing_analysis_df = pd.DataFrame(purchasing_analysis)\n",
    "#Apply formating to the Price columns to reflect they are cash values:\n",
    "purchasing_analysis_df[\"Average Price\"] = purchasing_analysis_df[\"Average Price\"].map(\"${:,.2f}\".format)\n",
    "purchasing_analysis_df[\"Total Revenue\"] = purchasing_analysis_df[\"Total Revenue\"].map(\"${:,.2f}\".format)\n",
    "#Print the data frame:\n",
    "purchasing_analysis_df"
   ]
  },
  {
   "cell_type": "markdown",
   "metadata": {},
   "source": [
    "## Gender Demographics"
   ]
  },
  {
   "cell_type": "markdown",
   "metadata": {},
   "source": [
    "* Percentage and Count of Male Players\n",
    "\n",
    "\n",
    "* Percentage and Count of Female Players\n",
    "\n",
    "\n",
    "* Percentage and Count of Other / Non-Disclosed\n",
    "\n",
    "\n"
   ]
  },
  {
   "cell_type": "code",
   "execution_count": null,
   "metadata": {
    "scrolled": true
   },
   "outputs": [],
   "source": [
    "#Need unique screen names list and the associated genders to remove duplicates and get accurate player count.\n",
    "gender_df = purchase_data_df.loc[:,[\"SN\",\"Gender\"]]\n",
    "p_gender_df = gender_df.drop_duplicates()\n",
    "\n"
   ]
  },
  {
   "cell_type": "code",
   "execution_count": null,
   "metadata": {},
   "outputs": [],
   "source": [
    "#Determine the number of each gender of player and the percentage:\n",
    "m = 0\n",
    "f = 0\n",
    "o = 0\n",
    "\n",
    "for g in p_gender_df[\"Gender\"]:\n",
    "    if g == \"Male\":\n",
    "        m += 1\n",
    "    elif g == \"Female\":\n",
    "        f += 1\n",
    "    elif g ==\"Other / Non-Disclosed\":\n",
    "        o += 1\n",
    "total = (m + f + o)\n",
    "#Based on the player count by gender, then calculate the percentage of gender per total player count. These are referenced\n",
    "#within a dictionary and then displayed in a data frame. The index is set to the gender type to be more meaningful relative\n",
    "#to the data represented in the columns.\n",
    "gender_num = {\"Total Count\":[m, f, o],\n",
    "             \"Percentage of Players\":[(m / total), (f / total), (o / total)]}\n",
    "gender_num_df = pd.DataFrame(gender_num, index = [\"Male\",\"Female\",\"Other / Non-Disclosed\"])\n",
    "#convert the Percentage of Players column formatting to a string reflecting percentage:\n",
    "gender_num_format = gender_num_df.style.format({'Percentage of Players': \"{:.2%}\"})\n",
    "gender_num_format"
   ]
  },
  {
   "cell_type": "markdown",
   "metadata": {},
   "source": [
    "\n",
    "## Purchasing Analysis (Gender)"
   ]
  },
  {
   "cell_type": "markdown",
   "metadata": {},
   "source": [
    "Purchases by Gender\n",
    "\n",
    "Average Purchase Price by Gender\n",
    "\n",
    "Total Purchase Value by Gender\n",
    "\n",
    "Average Total Purchase per Person per Gender"
   ]
  },
  {
   "cell_type": "code",
   "execution_count": null,
   "metadata": {},
   "outputs": [],
   "source": [
    "#Group by gender to determine the summary statistics:\n",
    "gender_purchase_analysis_df = purchase_data_df.groupby([\"Gender\"])\n",
    "\n",
    "#Dictionary to store the functions housing the data - count for total purchases by gender, mean for avg purchase price,\n",
    "#sum for the total value, and the avg per person of a gender is taking the total count column from the previously \n",
    "#created Data Frame gender_num_df and taking the sum of the price here divided by it.\n",
    "gender_summary={\"Purchase Count\": gender_purchase_analysis_df[\"Gender\"].count(),\n",
    "               \"Average Purchase Price\": round(gender_purchase_analysis_df[\"Price\"].mean(),2),\n",
    "               \"Total Purchase Value\": gender_purchase_analysis_df[\"Price\"].sum(),\n",
    "               \"Avg Total Purchase per Person\": round(gender_purchase_analysis_df[\"Price\"].sum()/gender_num_df[\"Total Count\"],2)}\n",
    "\n",
    "gender_summary_df=pd.DataFrame(gender_summary)\n",
    "\n",
    "#Apply dollar formatting to the purchase columns:\n",
    "gender_summary_df[\"Average Purchase Price\"] = gender_summary_df[\"Average Purchase Price\"].map(\"${:,.2f}\".format)\n",
    "gender_summary_df[\"Total Purchase Value\"] = gender_summary_df[\"Total Purchase Value\"].map(\"${:,.2f}\".format)\n",
    "gender_summary_df[\"Avg Total Purchase per Person\"] = gender_summary_df[\"Avg Total Purchase per Person\"].map(\"${:,.2f}\".format)\n",
    "\n",
    "gender_summary_df"
   ]
  },
  {
   "cell_type": "markdown",
   "metadata": {},
   "source": [
    "## Age Demographics"
   ]
  },
  {
   "cell_type": "markdown",
   "metadata": {},
   "source": [
    "* Establish bins for ages\n",
    "\n",
    "\n",
    "* Cut in the Age Ranges and then Group by the ranges.\n",
    "\n",
    "\n",
    "* Calculate the numbers and percentages by age group\n",
    "\n",
    "\n",
    "* Create and display a summary data frame to hold the results\n"
   ]
  },
  {
   "cell_type": "code",
   "execution_count": null,
   "metadata": {},
   "outputs": [],
   "source": [
    "#Establish the bins and labels:\n",
    "bins = [0, 9.9, 14.9, 19.9, 24.9, 29.9, 34.9, 39.9, 100]\n",
    "group_names = [\"<10\",\"10-14\",\"15-19\",\"20-24\",\"25-29\",\"30-34\",\"35-39\",\"40+\"]\n",
    "#Create the data frame to determine the ages of players\n",
    "age_SN_df = purchase_data_df.loc[:,[\"SN\",\"Age\"]]\n",
    "#Drop duplicates to get the # of unique players\n",
    "age_df = age_SN_df.drop_duplicates()\n",
    "\n",
    "#Cut in the bins\n",
    "age_df[\"Age Ranges\"] = pd.cut(age_df[\"Age\"], bins, labels=group_names, include_lowest=True)\n",
    "age_total_gb = age_df.groupby([\"Age Ranges\"])\n",
    "age_demo = {\"Total Count\": age_total_gb[\"Age\"].count(),\n",
    "           \"Percentage of Players\": (age_total_gb[\"Age\"].count()/total)}\n",
    "age_demo_df = pd.DataFrame(age_demo)\n",
    "\n",
    "#Apply %age formatting to the Percentage of Players column\n",
    "age_demo_format = age_demo_df.style.format({'Percentage of Players': \"{:.2%}\"})\n",
    "\n",
    "age_demo_format"
   ]
  },
  {
   "cell_type": "markdown",
   "metadata": {},
   "source": [
    "## Purchasing Analysis (Age)"
   ]
  },
  {
   "cell_type": "markdown",
   "metadata": {},
   "source": [
    "Bin the purchase_data data frame by age\n",
    "\n",
    "Average Purchase Price by Age\n",
    "\n",
    "Total Purchase Value by Age\n",
    "\n",
    "Average Total Purchase per Person per Age\n",
    "\n",
    "Summary data frame holds and displays the results."
   ]
  },
  {
   "cell_type": "code",
   "execution_count": null,
   "metadata": {},
   "outputs": [],
   "source": [
    "#Create the data frame to determine the purchase data based on age:\n",
    "age_price_df=purchase_data_df.loc[:,[\"Age\",\"Price\"]]\n",
    "age_price_df[\"Age Ranges\"] = pd.cut(age_price_df[\"Age\"], bins, labels=group_names, include_lowest=True)\n",
    "age_price_gb = age_price_df.groupby([\"Age Ranges\"])\n",
    "#Create a summary dictionary to house the various groupby functions\n",
    "age_summary = {\"Purchase Count\": age_price_gb[\"Age\"].count(),\n",
    "               \"Average Purchase Price\": round(age_price_gb[\"Price\"].mean(),2),\n",
    "               \"Total Purchase Value\": age_price_gb[\"Price\"].sum(),\n",
    "               \"Avg Total Purchase per Person\": round(age_price_gb[\"Price\"].sum()/age_demo_df[\"Total Count\"],2)}\n",
    "#Create a summary data frame to store the dictionary\n",
    "age_summary_df = pd.DataFrame(age_summary)\n",
    "#Apply dollar formatting to the purchase columns:\n",
    "age_summary_df[\"Average Purchase Price\"] = age_summary_df[\"Average Purchase Price\"].map(\"${:,.2f}\".format)\n",
    "age_summary_df[\"Total Purchase Value\"] = age_summary_df[\"Total Purchase Value\"].map(\"${:,.2f}\".format)\n",
    "age_summary_df[\"Avg Total Purchase per Person\"] = age_summary_df[\"Avg Total Purchase per Person\"].map(\"${:,.2f}\".format)\n",
    "#Print the results\n",
    "age_summary_df"
   ]
  },
  {
   "cell_type": "markdown",
   "metadata": {},
   "source": [
    "## Top Spenders"
   ]
  },
  {
   "cell_type": "markdown",
   "metadata": {},
   "source": [
    "Average Purchase Price by SN\n",
    "\n",
    "Total Purchase Value by SN\n",
    "\n",
    "Average Total Purchase per Person per SN\n",
    "\n",
    "Summary data frame holds and displays the results."
   ]
  },
  {
   "cell_type": "code",
   "execution_count": null,
   "metadata": {},
   "outputs": [],
   "source": [
    "#Obtain the columns from the main data frame - SN and price:\n",
    "SN_price_df = purchase_data_df.loc[:,[\"SN\",\"Price\"]]\n",
    "#group by SN to determine the SNs as the index:\n",
    "SN_price_gb = SN_price_df.groupby([\"SN\"])\n",
    "#Summary statistics: count, mean, and sum within a dictionary and create a data frame based on it, \n",
    "#sorting on \"Total Purchase Value\" column:\n",
    "SN_summary = {\"Purchase Count\": SN_price_gb[\"SN\"].count(),\n",
    "              \"Average Purchase Price\": round(SN_price_gb[\"Price\"].mean(),2),\n",
    "              \"Total Purchase Value\": SN_price_gb[\"Price\"].sum()}\n",
    "SN_summary_df = pd.DataFrame(SN_summary).sort_values(\"Total Purchase Value\", ascending=False)\n",
    "\n",
    "#Apply dollar formatting to the purchase columns:\n",
    "SN_summary_df[\"Average Purchase Price\"] = SN_summary_df[\"Average Purchase Price\"].map(\"${:,.2f}\".format)\n",
    "SN_summary_df[\"Total Purchase Value\"] = SN_summary_df[\"Total Purchase Value\"].map(\"${:,.2f}\".format)\n",
    "\n",
    "#Display the data frame:\n",
    "SN_summary_df.head()"
   ]
  },
  {
   "cell_type": "markdown",
   "metadata": {},
   "source": [
    "## Most Popular Items"
   ]
  },
  {
   "cell_type": "markdown",
   "metadata": {},
   "source": [
    "Analysis of Item ID, Item Name, and Price.\n",
    "\n",
    "Grouped by Item ID and Item Name.\n",
    "\n",
    "Popularity is determined by how many times an item was purchased.\n",
    "\n",
    "Summary data frame is then sorted by purchase count to display the highest number of purchases.\n"
   ]
  },
  {
   "cell_type": "code",
   "execution_count": null,
   "metadata": {},
   "outputs": [],
   "source": [
    "#Create the data frame:\n",
    "popular_item_df = purchase_data_df.loc[:,[\"Item ID\", \"Item Name\", \"Price\"]]\n",
    "#Group by \"Item ID\" and \"Item Name\":\n",
    "popular_item_gb = popular_item_df.groupby([\"Item ID\",\"Item Name\"])\n",
    "#Summary items:\n",
    "popular_item_summary = {\"Purchase Count\": popular_item_gb[\"Item Name\"].count(),\n",
    "                       \"Item Price\": round(popular_item_gb[\"Price\"].mean(),2),\n",
    "                       \"Total Purchase Value\": popular_item_gb[\"Price\"].sum()}\n",
    "#Create data frame based on summary dictionary and sort by \"Purchase Count\":\n",
    "popular_item_summary_df = pd.DataFrame(popular_item_summary).sort_values(\"Purchase Count\", ascending=False)\n",
    "#apply dollar formatting to the \"Item Price and \"Total Purchase Value\" columns:\n",
    "popular_item_summary_df[\"Item Price\"] = popular_item_summary_df[\"Item Price\"].map(\"${:,.2f}\".format)\n",
    "popular_item_summary_df[\"Total Purchase Value\"] = popular_item_summary_df[\"Total Purchase Value\"].map(\"${:,.2f}\".format)\n",
    "\n",
    "#Display summary data frame:\n",
    "popular_item_summary_df.head()"
   ]
  },
  {
   "cell_type": "markdown",
   "metadata": {},
   "source": [
    "## Most Profitable Items"
   ]
  },
  {
   "cell_type": "markdown",
   "metadata": {},
   "source": [
    "Same data frame as Most Popular Items but sorted to show the most profitable based on the \"Total Purchase \"Value column.\n",
    "\n"
   ]
  },
  {
   "cell_type": "code",
   "execution_count": null,
   "metadata": {
    "scrolled": false
   },
   "outputs": [],
   "source": [
    "popular_item_df2 = purchase_data_df.loc[:,[\"Item ID\", \"Item Name\", \"Price\"]]\n",
    "#Group by \"Item ID\" and \"Item Name\":\n",
    "popular_item_gb2 = popular_item_df2.groupby([\"Item ID\",\"Item Name\"])\n",
    "#Summary items:\n",
    "popular_item_summary2 = {\"Purchase Count\": popular_item_gb[\"Item Name\"].count(),\n",
    "                       \"Item Price\": round(popular_item_gb[\"Price\"].mean(),2),\n",
    "                       \"Total Purchase Value\": popular_item_gb[\"Price\"].sum()}\n",
    "#Pass the summary data into a data frame and sort by \"Total Purchase Value\"\n",
    "popular_item_summary_df2 = pd.DataFrame(popular_item_summary2).sort_values(\"Total Purchase Value\", ascending=False)\n",
    "#Apply dollar formatting:\n",
    "popular_item_summary_df2[\"Item Price\"] = popular_item_summary_df2[\"Item Price\"].map(\"${:,.2f}\".format)\n",
    "popular_item_summary_df2[\"Total Purchase Value\"] = popular_item_summary_df2[\"Total Purchase Value\"].map(\"${:,.2f}\".format)\n",
    "#Print the summary data frame:\n",
    "popular_item_summary_df2.head()"
   ]
  }
 ],
 "metadata": {
  "anaconda-cloud": {},
  "kernel_info": {
   "name": "python3"
  },
  "kernelspec": {
   "display_name": "Python 3",
   "language": "python",
   "name": "python3"
  },
  "language_info": {
   "codemirror_mode": {
    "name": "ipython",
    "version": 3
   },
   "file_extension": ".py",
   "mimetype": "text/x-python",
   "name": "python",
   "nbconvert_exporter": "python",
   "pygments_lexer": "ipython3",
   "version": "3.6.10"
  },
  "latex_envs": {
   "LaTeX_envs_menu_present": true,
   "autoclose": false,
   "autocomplete": true,
   "bibliofile": "biblio.bib",
   "cite_by": "apalike",
   "current_citInitial": 1,
   "eqLabelWithNumbers": true,
   "eqNumInitial": 1,
   "hotkeys": {
    "equation": "Ctrl-E",
    "itemize": "Ctrl-I"
   },
   "labels_anchors": false,
   "latex_user_defs": false,
   "report_style_numbering": false,
   "user_envs_cfg": false
  },
  "nteract": {
   "version": "0.2.0"
  }
 },
 "nbformat": 4,
 "nbformat_minor": 2
}
